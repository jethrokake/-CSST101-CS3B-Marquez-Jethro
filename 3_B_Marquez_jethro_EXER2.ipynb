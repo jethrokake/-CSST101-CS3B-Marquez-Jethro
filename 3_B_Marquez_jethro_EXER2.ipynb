{
  "nbformat": 4,
  "nbformat_minor": 0,
  "metadata": {
    "colab": {
      "provenance": []
    },
    "kernelspec": {
      "name": "python3",
      "display_name": "Python 3"
    },
    "language_info": {
      "name": "python"
    }
  },
  "cells": [
    {
      "cell_type": "markdown",
      "source": [
        "# **Assessment Task 1: Basic Probability Calculations**\n"
      ],
      "metadata": {
        "id": "mdnFOAGS3I8d"
      }
    },
    {
      "cell_type": "code",
      "execution_count": 18,
      "metadata": {
        "id": "Bw75Ne0Pwnvw"
      },
      "outputs": [],
      "source": [
        "def joint_probability(p_A, p_B):\n",
        "    \"\"\"Compute the joint probability of two independent events A and B.\"\"\"\n",
        "    return p_A * p_B\n",
        "\n",
        "def marginal_probability(p_A):\n",
        "    \"\"\"Return the marginal probability of event A.\"\"\"\n",
        "    return p_A  # For independent events, this is simply P(A)\n",
        "\n",
        "def conditional_probability(p_A, p_B):\n",
        "    \"\"\"Compute the conditional probability of A given B.\"\"\"\n",
        "    if p_B == 0:\n",
        "        raise ValueError(\"Probability of event B cannot be zero.\")\n",
        "    return joint_probability(p_A, p_B) / p_B"
      ]
    },
    {
      "cell_type": "markdown",
      "source": [
        "# **Interaactive question**"
      ],
      "metadata": {
        "id": "vY1PqnOi3ZpZ"
      }
    },
    {
      "cell_type": "code",
      "source": [
        "p_A = 0.3\n",
        "p_B = 0.4\n",
        "\n",
        "join = joint_probability(p_A, p_B)\n",
        "print(f\"joint probability {join:.4f}\")"
      ],
      "metadata": {
        "colab": {
          "base_uri": "https://localhost:8080/"
        },
        "id": "kai3R6cY3pRA",
        "outputId": "02a7ebbc-91d8-483f-853f-4ba0f11ca3a0"
      },
      "execution_count": 19,
      "outputs": [
        {
          "output_type": "stream",
          "name": "stdout",
          "text": [
            "joint probability 0.1200\n"
          ]
        }
      ]
    },
    {
      "cell_type": "markdown",
      "source": [
        "# **Feedback**"
      ],
      "metadata": {
        "id": "DaQkMem26sZC"
      }
    },
    {
      "cell_type": "code",
      "source": [
        "report = \"\"\"\n",
        "  if correct: You will recieve feedback confirming that your calculation is correct based on formula\n",
        "  P(AnB)=P(A)xP(B).\n",
        "\n",
        "  if incorrect: if your implementation does not yeld the expected result, consider checking you calculations\n",
        "  \"\"\"\n",
        "print(report)"
      ],
      "metadata": {
        "colab": {
          "base_uri": "https://localhost:8080/"
        },
        "id": "9MZsLy086yaD",
        "outputId": "59cc5843-3b9d-40a8-f278-77ba9056f1a8"
      },
      "execution_count": 20,
      "outputs": [
        {
          "output_type": "stream",
          "name": "stdout",
          "text": [
            "\n",
            "  if correct: You will recieve feedback confirming that your calculation is correct based on formula\n",
            "  P(AnB)=P(A)xP(B).\n",
            "\n",
            "  if incorrect: if your implementation does not yeld the expected result, consider checking you calculations\n",
            "  \n"
          ]
        }
      ]
    },
    {
      "cell_type": "markdown",
      "source": [
        "# **Assessment Task 2: Bayesian Inference**"
      ],
      "metadata": {
        "id": "jHcw6lQm8aNQ"
      }
    },
    {
      "cell_type": "code",
      "source": [
        "def bayesian_inference():\n",
        "    # Given probabilities\n",
        "    P_disease = 0.01  # Prior: Probability of having the disease\n",
        "    P_positive_given_disease = 0.90  # Likelihood: Probability of positive test given disease\n",
        "    P_positive_given_no_disease = 0.05  # False positive rate\n",
        "\n",
        "    # Calculate marginal probability of testing positive\n",
        "    P_no_disease = 1 - P_disease\n",
        "    P_positive = (P_positive_given_disease * P_disease) + (P_positive_given_no_disease * P_no_disease)\n",
        "\n",
        "    # Apply Bayes' theorem\n",
        "    P_disease_given_positive = (P_positive_given_disease * P_disease) / P_positive\n",
        "\n",
        "    return P_disease_given_positive\n",
        "\n",
        "# Call the function and print the result\n",
        "result = bayesian_inference()\n",
        "print(f\"The probability of having the disease given a positive test result is: {result:.4f}\")"
      ],
      "metadata": {
        "colab": {
          "base_uri": "https://localhost:8080/"
        },
        "id": "CMtz7ErT8lY5",
        "outputId": "0ce5fe62-9b72-44df-b020-70ce5909ee00"
      },
      "execution_count": 21,
      "outputs": [
        {
          "output_type": "stream",
          "name": "stdout",
          "text": [
            "The probability of having the disease given a positive test result is: 0.1538\n"
          ]
        }
      ]
    },
    {
      "cell_type": "markdown",
      "source": [
        "# **Feedback**\n"
      ],
      "metadata": {
        "id": "RYPsDSjL9wUz"
      }
    },
    {
      "cell_type": "code",
      "source": [
        "report = \"\"\"\n",
        "Bayes Theorem allows us to systematically update our beliefs based on new information, making it an invaluable tool in fields such as medicine, finance, and machine learning\n",
        ". By understanding and applying its components—prior probability, likelihood, and marginal probability—we can make informed decisions based on evidence.\n",
        "\"\"\"\n",
        "print(report)"
      ],
      "metadata": {
        "colab": {
          "base_uri": "https://localhost:8080/"
        },
        "id": "Gqdpbe6L95-n",
        "outputId": "0576dfc8-e49f-4272-da48-1ba9d74f6144"
      },
      "execution_count": 22,
      "outputs": [
        {
          "output_type": "stream",
          "name": "stdout",
          "text": [
            "\n",
            "Bayes Theorem allows us to systematically update our beliefs based on new information, making it an invaluable tool in fields such as medicine, finance, and machine learning\n",
            ". By understanding and applying its components—prior probability, likelihood, and marginal probability—we can make informed decisions based on evidence.\n",
            "\n"
          ]
        }
      ]
    },
    {
      "cell_type": "markdown",
      "source": [
        "# **Assessment Task 3: Decision-Making Under Uncertainty**"
      ],
      "metadata": {
        "id": "4Ei5gEEN_INr"
      }
    },
    {
      "cell_type": "code",
      "source": [
        "import numpy as np\n",
        "\n",
        "def investment_simulation(prob_success=0.7, num_iterations=1000):\n",
        "    # Constants for reward and penalty\n",
        "    reward = 1000\n",
        "    penalty = -500\n",
        "\n",
        "    # Initialize total return\n",
        "    total_return = 0\n",
        "\n",
        "    # Run the simulation for the specified number of iterations\n",
        "    for _ in range(num_iterations):\n",
        "        # Simulate the outcome (1 for success, 0 for failure)\n",
        "        outcome = np.random.rand() < prob_success\n",
        "\n",
        "        # Update total return based on outcome\n",
        "        if outcome:  # Success\n",
        "            total_return += reward\n",
        "        else:  # Failure\n",
        "            total_return += penalty\n",
        "\n",
        "    # Calculate average return\n",
        "    average_return = total_return / num_iterations\n",
        "    return average_return\n",
        "\n",
        "# Run the simulation with default probability of success (70%)\n",
        "average_return_default = investment_simulation()\n",
        "print(f\"Average return after 1000 iterations (70% success): ${average_return_default:.2f}\")\n",
        "\n",
        "# Example of running with different probabilities\n",
        "probabilities = [0.5, 0.6, 0.7, 0.8, 0.9]\n",
        "for prob in probabilities:\n",
        "    avg_return = investment_simulation(prob_success=prob)\n",
        "    print(f\"Average return after 1000 iterations ({int(prob * 100)}% success): ${avg_return:.2f}\")"
      ],
      "metadata": {
        "colab": {
          "base_uri": "https://localhost:8080/"
        },
        "id": "33HyUcC1-V0k",
        "outputId": "42924f71-3940-46ab-f56b-d195f17716dd"
      },
      "execution_count": 23,
      "outputs": [
        {
          "output_type": "stream",
          "name": "stdout",
          "text": [
            "Average return after 1000 iterations (70% success): $544.00\n",
            "Average return after 1000 iterations (50% success): $260.50\n",
            "Average return after 1000 iterations (60% success): $418.00\n",
            "Average return after 1000 iterations (70% success): $541.00\n",
            "Average return after 1000 iterations (80% success): $686.50\n",
            "Average return after 1000 iterations (90% success): $851.50\n"
          ]
        }
      ]
    },
    {
      "cell_type": "markdown",
      "source": [
        "# **Feedback**"
      ],
      "metadata": {
        "id": "C8c7W3uaBhhW"
      }
    },
    {
      "cell_type": "code",
      "source": [
        "report = \"\"\"\n",
        "This simulation provides insights into decision-making under uncertainty and demonstrates how changing probabilities can significantly impact financial outcomes. You can adjust parameters and run further simulations to explore different scenarios!\n",
        "\"\"\"\n",
        "print(report)"
      ],
      "metadata": {
        "colab": {
          "base_uri": "https://localhost:8080/"
        },
        "id": "yUPkyM7xBgJb",
        "outputId": "1670e0e4-5da6-42ad-eb75-b431978cba12"
      },
      "execution_count": 24,
      "outputs": [
        {
          "output_type": "stream",
          "name": "stdout",
          "text": [
            " \n",
            "This simulation provides insights into decision-making under uncertainty and demonstrates how changing probabilities can significantly impact financial outcomes. You can adjust parameters and run further simulations to explore different scenarios!\n",
            "\n"
          ]
        }
      ]
    },
    {
      "cell_type": "markdown",
      "source": [
        "# **Assessment Task 4: Real-World Scenario**"
      ],
      "metadata": {
        "id": "QsDZuMUBDUCW"
      }
    },
    {
      "cell_type": "code",
      "source": [
        "import numpy as np\n",
        "import matplotlib.pyplot as plt\n",
        "\n",
        "def rain_prediction(humidity, cloud_cover):\n",
        "    # Prior probabilities\n",
        "    P_rain = 0.3\n",
        "    P_no_rain = 1 - P_rain\n",
        "\n",
        "    # Likelihood probabilities\n",
        "    P_humidity_given_rain = 0.8\n",
        "    P_cloud_cover_given_rain = 0.7\n",
        "    P_humidity_given_no_rain = 0.4\n",
        "    P_cloud_cover_given_no_rain = 0.3\n",
        "\n",
        "    # Calculate posterior probabilities using Bayes' theorem\n",
        "    P_rain_given_evidence = (P_humidity_given_rain * P_cloud_cover_given_rain * P_rain) / \\\n",
        "                            ((P_humidity_given_rain * P_cloud_cover_given_rain * P_rain) + \\\n",
        "                             (P_humidity_given_no_rain * P_cloud_cover_given_no_rain * P_no_rain))\n",
        "\n",
        "    P_no_rain_given_evidence = 1 - P_rain_given_evidence\n",
        "\n",
        "    return P_rain_given_evidence, P_no_rain_given_evidence\n",
        "\n",
        "# Interactive input\n",
        "humidity = float(input(\"Enter humidity (0-1): \"))\n",
        "cloud_cover = float(input(\"Enter cloud cover (0-1): \"))\n",
        "\n",
        "# Call the prediction function\n",
        "P_rain_given_evidence, P_no_rain_given_evidence = rain_prediction(humidity, cloud_cover)\n",
        "\n",
        "# Print the results\n",
        "print(f\"Probability of rain: {P_rain_given_evidence:.2f}\")\n",
        "print(f\"Probability of no rain: {P_no_rain_given_evidence:.2f}\")\n",
        "\n",
        "# Plot the results\n",
        "labels = ['Rain', 'No Rain']\n",
        "probabilities = [P_rain_given_evidence, P_no_rain_given_evidence]\n",
        "\n",
        "plt.figure(figsize=(6, 4))\n",
        "plt.bar(labels, probabilities)\n",
        "plt.xlabel('Outcome')\n",
        "plt.ylabel('Probability')\n",
        "plt.title(f'Rain Prediction (Humidity: {humidity:.2f}, Cloud Cover: {cloud_cover:.2f})')\n",
        "plt.show()"
      ],
      "metadata": {
        "colab": {
          "base_uri": "https://localhost:8080/",
          "height": 479
        },
        "id": "OavqZe7qDlfB",
        "outputId": "b9ae0426-7fee-4fd7-9d26-a6c0b2cd2f55"
      },
      "execution_count": 26,
      "outputs": [
        {
          "output_type": "stream",
          "name": "stdout",
          "text": [
            "Enter humidity (0-1): 0\n",
            "Enter cloud cover (0-1): 1\n",
            "Probability of rain: 0.67\n",
            "Probability of no rain: 0.33\n"
          ]
        },
        {
          "output_type": "display_data",
          "data": {
            "text/plain": [
              "<Figure size 600x400 with 1 Axes>"
            ],
            "image/png": "[encoded data removed]"
          },
          "metadata": {}
        }
      ]
    },
    {
      "cell_type": "markdown",
      "source": [
        "# **Feedback**"
      ],
      "metadata": {
        "id": "7Hrk2aO8RvPk"
      }
    },
    {
      "cell_type": "code",
      "source": [
        "report = \"\"\"\n",
        "### Feedback\n",
        "\n",
        "With a humidity level of 0 and maximum cloud cover of 1, the model still predicts a 67% probability of rain. This indicates that even with no humidity, the presence of full cloud cover significantly influences the likelihood of precipitation, suggesting that cloud cover alone is a strong indicator of potential rain. The 33% probability of no rain reflects that while conditions are favorable for rain, there remains a chance of dry weather. To enhance the prediction accuracy, consider incorporating additional factors such as temperature or historical weather patterns, as these can further refine the model's output.\n",
        "\n",
        "\"\"\"\n",
        "print(report)"
      ],
      "metadata": {
        "colab": {
          "base_uri": "https://localhost:8080/"
        },
        "id": "RafH8woOR2Bo",
        "outputId": "7abe1b0f-4e9b-40a7-83d0-cf035e4e8905"
      },
      "execution_count": 27,
      "outputs": [
        {
          "output_type": "stream",
          "name": "stdout",
          "text": [
            "\n",
            "### Feedback\n",
            "\n",
            "With a humidity level of 0 and maximum cloud cover of 1, the model still predicts a 67% probability of rain. This indicates that even with no humidity, the presence of full cloud cover significantly influences the likelihood of precipitation, suggesting that cloud cover alone is a strong indicator of potential rain. The 33% probability of no rain reflects that while conditions are favorable for rain, there remains a chance of dry weather. To enhance the prediction accuracy, consider incorporating additional factors such as temperature or historical weather patterns, as these can further refine the model's output.\n",
            "\n",
            "\n"
          ]
        }
      ]
    },
    {
      "cell_type": "markdown",
      "source": [
        "# **Assessment Task 5: Probability Distributions Visualization**"
      ],
      "metadata": {
        "id": "lYPh53FqV2Xr"
      }
    },
    {
      "cell_type": "code",
      "source": [
        "import numpy as np\n",
        "import matplotlib.pyplot as plt\n",
        "from scipy.stats import binom, norm\n",
        "\n",
        "def simulate_coin_flips(num_trials, prob_heads):\n",
        "    # Simulate coin flips using a binomial distribution\n",
        "    flips = np.random.binomial(num_trials, prob_heads)\n",
        "    return flips\n",
        "\n",
        "def plot_distribution(num_trials, prob_heads):\n",
        "    # Generate data for the binomial distribution\n",
        "    x = np.arange(0, num_trials + 1)\n",
        "    binom_dist = binom.pmf(x, num_trials, prob_heads)\n",
        "\n",
        "    # Create a figure for plotting\n",
        "    plt.figure(figsize=(12, 6))\n",
        "\n",
        "    # Plot the binomial distribution\n",
        "    plt.subplot(1, 2, 1)\n",
        "    plt.bar(x, binom_dist, color='skyblue', alpha=0.7)\n",
        "    plt.title(f'Binomial Distribution\\nTrials: {num_trials}, Probability of Heads: {prob_heads}')\n",
        "    plt.xlabel('Number of Heads')\n",
        "    plt.ylabel('Probability')\n",
        "\n",
        "    # Plot the normal approximation if applicable\n",
        "    mean = num_trials * prob_heads\n",
        "    std_dev = np.sqrt(num_trials * prob_heads * (1 - prob_heads))\n",
        "\n",
        "    # Generate values for the normal distribution\n",
        "    x_norm = np.linspace(max(0, mean - 4*std_dev), min(num_trials, mean + 4*std_dev), 1000)\n",
        "    norm_dist = norm.pdf(x_norm, mean, std_dev)\n",
        "\n",
        "    plt.subplot(1, 2, 2)\n",
        "    plt.plot(x_norm, norm_dist, color='orange')\n",
        "    plt.title('Normal Approximation to Binomial Distribution')\n",
        "    plt.xlabel('Number of Heads')\n",
        "    plt.ylabel('Probability Density')\n",
        "\n",
        "    # Show plots\n",
        "    plt.tight_layout()\n",
        "    plt.show()\n",
        "\n",
        "# Interactive input for number of trials and probability of heads\n",
        "num_trials = int(input(\"Enter the number of trials (e.g., 1000): \"))\n",
        "prob_heads = float(input(\"Enter the probability of heads (0-1): \"))\n",
        "\n",
        "# Simulate coin flips and plot the distributions\n",
        "flips = simulate_coin_flips(num_trials, prob_heads)\n",
        "print(f\"Simulated number of heads in {num_trials} flips: {flips}\")\n",
        "plot_distribution(num_trials, prob_heads)"
      ],
      "metadata": {
        "colab": {
          "base_uri": "https://localhost:8080/",
          "height": 659
        },
        "id": "S4Ri4FpDV9WG",
        "outputId": "47141d9f-997d-4e14-f69c-c43fcdb645a5"
      },
      "execution_count": 28,
      "outputs": [
        {
          "metadata": {
            "tags": null
          },
          "name": "stdout",
          "output_type": "stream",
          "text": [
            "Simulated number of heads in 69 flips: 69\n"
          ]
        },
        {
          "metadata": {
            "tags": null
          },
          "name": "stderr",
          "output_type": "stream",
          "text": [
            "/usr/local/lib/python3.10/dist-packages/scipy/stats/_distn_infrastructure.py:1988: RuntimeWarning: invalid value encountered in divide\n",
            "  x = np.asarray((x - loc)/scale, dtype=dtyp)\n"
          ]
        },
        {
          "data": {
            "image/png": "[encoded data removed]",
            "text/plain": [
              "<Figure size 1200x600 with 2 Axes>"
            ]
          },
          "metadata": {},
          "output_type": "display_data"
        }
      ]
    },
    {
      "cell_type": "markdown",
      "source": [
        "# **Follow up question:**\n",
        "\n",
        "1.   Increasing the number of trials: as you increase the number of trials you will notice the shape of binomial to change asnd becomre more symetric\n",
        "2.   changing probability will effect the outcome towards head.\n",
        "\n"
      ],
      "metadata": {
        "id": "a1RFvi1UZCPD"
      }
    },
    {
      "cell_type": "markdown",
      "source": [
        "# **Feedback**"
      ],
      "metadata": {
        "id": "UM8uTABxYgTY"
      }
    },
    {
      "cell_type": "code",
      "source": [
        "report = \"\"\"\n",
        "The simulation of 1000 coin flips successfully demonstrates the binomial distribution, showing how the number of heads varies with the specified probability. As you increase the number of trials, the distribution becomes more symmetric and closely resembles a normal distribution due to the Central Limit Theorem. Changing the probability of heads shifts the peak of the distribution, illustrating how skewness in outcomes can occur based on the likelihood of success. This interactive visualization effectively highlights the relationship between trial size, probability, and resulting distribution shape, providing valuable insights into probabilistic modeling.\n",
        "\"\"\""
      ],
      "metadata": {
        "id": "X2HRDzcnYpvS"
      },
      "execution_count": null,
      "outputs": []
    }
  ]
}
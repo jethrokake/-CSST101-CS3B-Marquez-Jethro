{
  "nbformat": 4,
  "nbformat_minor": 0,
  "metadata": {
    "colab": {
      "provenance": []
    },
    "kernelspec": {
      "name": "python3",
      "display_name": "Python 3"
    },
    "language_info": {
      "name": "python"
    }
  },
  "cells": [
    {
      "cell_type": "markdown",
      "source": [
        "# **Part 1: Implementation Basic Probability Calculation**"
      ],
      "metadata": {
        "id": "ljJWcyvJF--I"
      }
    },
    {
      "cell_type": "code",
      "source": [
        "def joint_probability(p_a, p_b):\n",
        "    \"\"\"\n",
        "    Calculate the joint probability of two independent events A and B.\n",
        "\n",
        "    Parameters:\n",
        "    p_a (float): Probability of event A\n",
        "    p_b (float): Probability of event B\n",
        "\n",
        "    Returns:\n",
        "    float: Joint probability of A and B\n",
        "    \"\"\"\n",
        "    return p_a * p_b\n",
        "\n",
        "def marginal_probability(p_a, p_b, p_a_given_b):\n",
        "    \"\"\"\n",
        "    Calculate the marginal probability of event A.\n",
        "\n",
        "    Parameters:\n",
        "    p_a (float): Probability of event A\n",
        "    p_b (float): Probability of event B\n",
        "    p_a_given_b (float): Conditional probability of A given B\n",
        "\n",
        "    Returns:\n",
        "    float: Marginal probability of A\n",
        "    \"\"\"\n",
        "    return p_a + (p_b * p_a_given_b)\n",
        "\n",
        "def conditional_probability(p_a, p_b, joint_p):\n",
        "    \"\"\"\n",
        "    Calculate the conditional probability of event A given event B.\n",
        "\n",
        "    Parameters:\n",
        "    p_a (float): Probability of event A\n",
        "    p_b (float): Probability of event B\n",
        "    joint_p (float): Joint probability of A and B\n",
        "\n",
        "    Returns:\n",
        "    float: Conditional probability of A given B\n",
        "    \"\"\"\n",
        "    return joint_p / p_b if p_b > 0 else 0\n",
        "\n",
        "def main():\n",
        "    print(\"Welcome to the Probability Calculator!\")\n",
        "\n",
        "    # Input probabilities from user\n",
        "    p_a = float(input(\"Enter the probability of event A (0 to 1): \"))\n",
        "    p_b = float(input(\"Enter the probability of event B (0 to 1): \"))\n",
        "\n",
        "    # Calculate joint probability\n",
        "    joint_p = joint_probability(p_a, p_b)\n",
        "\n",
        "    print(f\"\\nJoint Probability P(A and B) = {joint_p:.4f}\")\n",
        "\n",
        "    # Input conditional probability for marginal calculation\n",
        "    p_a_given_b = float(input(\"Enter the conditional probability P(A|B) (0 to 1): \"))\n",
        "\n",
        "    # Calculate marginal probability\n",
        "    marginal_p = marginal_probability(p_a, p_b, p_a_given_b)\n",
        "\n",
        "    print(f\"Marginal Probability P(A) = {marginal_p:.4f}\")\n",
        "\n",
        "    # Calculate conditional probability using joint probability\n",
        "    cond_p = conditional_probability(p_a, p_b, joint_p)\n",
        "\n",
        "    print(f\"Conditional Probability P(A|B) = {cond_p:.4f}\")\n",
        "\n",
        "if __name__ == \"__main__\":\n",
        "    main()"
      ],
      "metadata": {
        "colab": {
          "base_uri": "https://localhost:8080/"
        },
        "id": "SmniKB-DGWka",
        "outputId": "70bca608-9a6e-45b3-de42-47ec6ff515e6"
      },
      "execution_count": 2,
      "outputs": [
        {
          "output_type": "stream",
          "name": "stdout",
          "text": [
            "Welcome to the Probability Calculator!\n",
            "Enter the probability of event A (0 to 1): 1\n",
            "Enter the probability of event B (0 to 1): 1\n",
            "\n",
            "Joint Probability P(A and B) = 1.0000\n",
            "Enter the conditional probability P(A|B) (0 to 1): 1\n",
            "Marginal Probability P(A) = 2.0000\n",
            "Conditional Probability P(A|B) = 1.0000\n"
          ]
        }
      ]
    },
    {
      "cell_type": "markdown",
      "source": [
        "# **Part 2: Bayesian Inference for Real-World Scenarios**"
      ],
      "metadata": {
        "id": "rJ4unJwPHTA5"
      }
    },
    {
      "cell_type": "code",
      "source": [
        "def bayesian_inference(prior, likelihood, evidence):\n",
        "    \"\"\"\n",
        "    Calculate the posterior probability using Bayes' theorem.\n",
        "\n",
        "    Parameters:\n",
        "    prior (float): The prior probability of having the disease (P(Disease))\n",
        "    likelihood (float): The likelihood of a positive test given the disease (P(Positive|Disease))\n",
        "    evidence (float): The overall probability of a positive test (P(Positive))\n",
        "\n",
        "    Returns:\n",
        "    float: The posterior probability of having the disease after a positive test (P(Disease|Positive))\n",
        "    \"\"\"\n",
        "    # Applying Bayes' theorem: P(Disease|Positive) = (P(Positive|Disease) * P(Disease)) / P(Positive)\n",
        "    posterior = (likelihood * prior) / evidence if evidence > 0 else 0\n",
        "    return posterior\n",
        "\n",
        "def main():\n",
        "    print(\"Welcome to the Bayesian Inference Calculator for Disease Diagnosis!\")\n",
        "\n",
        "    # Input probabilities from user\n",
        "    prior = float(input(\"Enter the prior probability of having the disease (P(Disease), 0 to 1): \"))\n",
        "    likelihood = float(input(\"Enter the likelihood of a positive test given the disease (P(Positive|Disease), 0 to 1): \"))\n",
        "    evidence = float(input(\"Enter the overall probability of a positive test (P(Positive), 0 to 1): \"))\n",
        "\n",
        "    # Calculate posterior probability\n",
        "    posterior = bayesian_inference(prior, likelihood, evidence)\n",
        "\n",
        "    print(f\"\\nThe posterior probability of having the disease after a positive test result is: P(Disease|Positive) = {posterior:.4f}\")\n",
        "\n",
        "if __name__ == \"__main__\":\n",
        "    main()"
      ],
      "metadata": {
        "colab": {
          "base_uri": "https://localhost:8080/"
        },
        "id": "PAMlw3WNHZZO",
        "outputId": "ca8d1d6d-9666-410f-f954-90cb5cd54b6b"
      },
      "execution_count": 4,
      "outputs": [
        {
          "output_type": "stream",
          "name": "stdout",
          "text": [
            "Welcome to the Bayesian Inference Calculator for Disease Diagnosis!\n",
            "Enter the prior probability of having the disease (P(Disease), 0 to 1): 99\n",
            "Enter the likelihood of a positive test given the disease (P(Positive|Disease), 0 to 1): 78\n",
            "Enter the overall probability of a positive test (P(Positive), 0 to 1): 887\n",
            "\n",
            "The posterior probability of having the disease after a positive test result is: P(Disease|Positive) = 8.7057\n"
          ]
        }
      ]
    },
    {
      "cell_type": "markdown",
      "source": [
        "# **Part 3: Simulate Decision-Making Under Uncertainty**"
      ],
      "metadata": {
        "id": "eC67JTTTIq6Y"
      }
    },
    {
      "cell_type": "code",
      "source": [
        "import random\n",
        "\n",
        "def simulate_investment(probability_of_success, reward, penalty, trials):\n",
        "    \"\"\"\n",
        "    Simulate an investment decision-making process over a number of trials.\n",
        "\n",
        "    Parameters:\n",
        "    probability_of_success (float): Probability of a successful outcome (0 to 1).\n",
        "    reward (float): Reward for a successful outcome.\n",
        "    penalty (float): Penalty for a failed outcome.\n",
        "    trials (int): Number of trials to simulate.\n",
        "\n",
        "    Returns:\n",
        "    float: The average return from the simulation.\n",
        "    \"\"\"\n",
        "    total_return = 0\n",
        "\n",
        "    for _ in range(trials):\n",
        "        if random.random() < probability_of_success:\n",
        "            total_return += reward  # Successful outcome\n",
        "        else:\n",
        "            total_return -= penalty  # Failed outcome\n",
        "\n",
        "    average_return = total_return / trials\n",
        "    return average_return\n",
        "\n",
        "def main():\n",
        "    print(\"Welcome to the Investment Decision Simulator!\")\n",
        "\n",
        "    # Input parameters from user\n",
        "    probability_of_success = float(input(\"Enter the probability of success (0 to 1): \"))\n",
        "    reward = float(input(\"Enter the reward amount for success: \"))\n",
        "    penalty = float(input(\"Enter the penalty amount for failure: \"))\n",
        "    trials = int(input(\"Enter the number of trials to simulate: \"))\n",
        "\n",
        "    # Run the simulation\n",
        "    average_return = simulate_investment(probability_of_success, reward, penalty, trials)\n",
        "\n",
        "    print(f\"\\nAverage return after {trials} trials: ${average_return:.2f}\")\n",
        "\n",
        "if __name__ == \"__main__\":\n",
        "    main()"
      ],
      "metadata": {
        "colab": {
          "base_uri": "https://localhost:8080/"
        },
        "id": "qSNr0685I1ze",
        "outputId": "06a9cb42-2732-4107-acae-5300fb5cb03a"
      },
      "execution_count": 5,
      "outputs": [
        {
          "output_type": "stream",
          "name": "stdout",
          "text": [
            "Welcome to the Investment Decision Simulator!\n",
            "Enter the probability of success (0 to 1): 33\n",
            "Enter the reward amount for success: 100\n",
            "Enter the penalty amount for failure: 2\n",
            "Enter the number of trials to simulate: 56\n",
            "\n",
            "Average return after 56 trials: $100.00\n"
          ]
        }
      ]
    },
    {
      "cell_type": "markdown",
      "source": [
        "# **Part 4: Visualize Probability Distributions**"
      ],
      "metadata": {
        "id": "GuSm_bTkMbug"
      }
    },
    {
      "cell_type": "code",
      "source": [
        "import numpy as np\n",
        "import matplotlib.pyplot as plt\n",
        "\n",
        "def simulate_binomial(n, p, trials):\n",
        "    \"\"\"\n",
        "    Simulate a binomial distribution for coin flips.\n",
        "\n",
        "    Parameters:\n",
        "    n (int): Number of trials (flips).\n",
        "    p (float): Probability of success (e.g., heads).\n",
        "    trials (int): Number of simulations to run.\n",
        "\n",
        "    Returns:\n",
        "    np.ndarray: Array of results from the simulations.\n",
        "    \"\"\"\n",
        "    return np.random.binomial(n, p, trials)\n",
        "\n",
        "def simulate_normal(mean, std_dev, samples):\n",
        "    \"\"\"\n",
        "    Simulate a normal distribution for exam scores.\n",
        "\n",
        "    Parameters:\n",
        "    mean (float): Mean score.\n",
        "    std_dev (float): Standard deviation of scores.\n",
        "    samples (int): Number of samples to generate.\n",
        "\n",
        "    Returns:\n",
        "    np.ndarray: Array of generated scores.\n",
        "    \"\"\"\n",
        "    return np.random.normal(mean, std_dev, samples)\n",
        "\n",
        "def plot_distribution(data, title, xlabel):\n",
        "    \"\"\"\n",
        "    Plot histogram of the given data.\n",
        "\n",
        "    Parameters:\n",
        "    data (np.ndarray): Data to plot.\n",
        "    title (str): Title of the histogram.\n",
        "    xlabel (str): Label for the x-axis.\n",
        "    \"\"\"\n",
        "    plt.figure(figsize=(10, 6))\n",
        "    plt.hist(data, bins=30, alpha=0.7, color='blue', edgecolor='black')\n",
        "    plt.title(title)\n",
        "    plt.xlabel(xlabel)\n",
        "    plt.ylabel('Frequency')\n",
        "    plt.grid(axis='y', alpha=0.75)\n",
        "    plt.show()\n",
        "\n",
        "def main():\n",
        "    print(\"Welcome to the Probability Distribution Simulator!\")\n",
        "\n",
        "    choice = input(\"Choose a distribution to simulate:\\n1. Binomial Distribution (e.g., Coin Flips)\\n2. Normal Distribution (e.g., Exam Scores)\\nEnter 1 or 2: \")\n",
        "\n",
        "    if choice == '1':\n",
        "        n = int(input(\"Enter the number of flips: \"))\n",
        "        p = float(input(\"Enter the probability of heads (0 to 1): \"))\n",
        "        trials = int(input(\"Enter the number of trials: \"))\n",
        "\n",
        "        # Simulate binomial distribution\n",
        "        data = simulate_binomial(n, p, trials)\n",
        "        plot_distribution(data, f'Binomial Distribution: {n} Flips with P(Heads)={p}', 'Number of Heads')\n",
        "\n",
        "    elif choice == '2':\n",
        "        mean = float(input(\"Enter the mean score: \"))\n",
        "        std_dev = float(input(\"Enter the standard deviation: \"))\n",
        "        samples = int(input(\"Enter the number of samples: \"))\n",
        "\n",
        "        # Simulate normal distribution\n",
        "        data = simulate_normal(mean, std_dev, samples)\n",
        "        plot_distribution(data, f'Normal Distribution: Mean={mean}, Std Dev={std_dev}', 'Exam Scores')\n",
        "\n",
        "    else:\n",
        "        print(\"Invalid choice! Please enter 1 or 2.\")\n",
        "\n",
        "if __name__ == \"__main__\":\n",
        "    main()"
      ],
      "metadata": {
        "colab": {
          "base_uri": "https://localhost:8080/",
          "height": 703
        },
        "id": "5dhc_Nb4Md0r",
        "outputId": "f4744ce9-b414-428f-b188-7320784549b5"
      },
      "execution_count": 7,
      "outputs": [
        {
          "name": "stdout",
          "output_type": "stream",
          "text": [
            "Welcome to the Probability Distribution Simulator!\n",
            "Choose a distribution to simulate:\n",
            "1. Binomial Distribution (e.g., Coin Flips)\n",
            "2. Normal Distribution (e.g., Exam Scores)\n",
            "Enter 1 or 2: 1\n",
            "Enter the number of flips: 10\n",
            "Enter the probability of heads (0 to 1): 1\n",
            "Enter the number of trials: 100\n"
          ]
        },
        {
          "output_type": "display_data",
          "data": {
            "text/plain": [
              "<Figure size 1000x600 with 1 Axes>"
            ],
            "image/png": "[encoded data removed]"
          },
          "metadata": {}
        }
      ]
    },
    {
      "cell_type": "markdown",
      "source": [
        "# **Part 5: Real-World Scenario Prediction**"
      ],
      "metadata": {
        "id": "Ks8mq4uNOel7"
      }
    },
    {
      "cell_type": "code",
      "source": [
        "def calculate_probability_of_rain(humidity, cloud_cover):\n",
        "    \"\"\"\n",
        "    Calculate the probability of rain based on humidity and cloud cover.\n",
        "\n",
        "    Parameters:\n",
        "    humidity (float): Humidity level (0 to 100).\n",
        "    cloud_cover (float): Cloud cover percentage (0 to 100).\n",
        "\n",
        "    Returns:\n",
        "    float: Probability of rain (0 to 1).\n",
        "    \"\"\"\n",
        "    # Hypothetical probabilities based on empirical data\n",
        "    # These values can be adjusted based on real-world data\n",
        "    base_probability = 0.1  # Base probability of rain\n",
        "\n",
        "    # Adjust probability based on humidity\n",
        "    if humidity > 80:\n",
        "        base_probability += 0.3  # High humidity increases chance of rain\n",
        "    elif humidity > 50:\n",
        "        base_probability += 0.2  # Moderate humidity increases chance of rain\n",
        "\n",
        "    # Adjust probability based on cloud cover\n",
        "    if cloud_cover > 70:\n",
        "        base_probability += 0.4  # Heavy cloud cover significantly increases chance of rain\n",
        "    elif cloud_cover > 40:\n",
        "        base_probability += 0.2  # Moderate cloud cover increases chance of rain\n",
        "\n",
        "    # Ensure the probability is between 0 and 1\n",
        "    return min(max(base_probability, 0), 1)\n",
        "\n",
        "def main():\n",
        "    print(\"Welcome to the Rain Prediction Calculator!\")\n",
        "\n",
        "    # Input values from user\n",
        "    humidity = float(input(\"Enter the humidity level (0 to 100): \"))\n",
        "    cloud_cover = float(input(\"Enter the cloud cover percentage (0 to 100): \"))\n",
        "\n",
        "    # Calculate the probability of rain\n",
        "    probability_of_rain = calculate_probability_of_rain(humidity, cloud_cover)\n",
        "\n",
        "    print(f\"\\nThe calculated probability of rain is: {probability_of_rain:.2f}\")\n",
        "\n",
        "    # Provide feedback based on the probability\n",
        "    if probability_of_rain >= 0.7:\n",
        "        print(\"It's very likely to rain. Don't forget your umbrella!\")\n",
        "    elif probability_of_rain >= 0.4:\n",
        "        print(\"There's a moderate chance of rain. You might want to be prepared.\")\n",
        "    else:\n",
        "        print(\"It's unlikely to rain today.\")\n",
        "\n",
        "if __name__ == \"__main__\":\n",
        "    main()"
      ],
      "metadata": {
        "colab": {
          "base_uri": "https://localhost:8080/"
        },
        "id": "QAoBSDNHOj6t",
        "outputId": "1ba27e80-6f87-4b4b-db2c-5bb567d2a8eb"
      },
      "execution_count": 9,
      "outputs": [
        {
          "output_type": "stream",
          "name": "stdout",
          "text": [
            "Welcome to the Rain Prediction Calculator!\n",
            "Enter the humidity level (0 to 100): 89\n",
            "Enter the cloud cover percentage (0 to 100): 70\n",
            "\n",
            "The calculated probability of rain is: 0.60\n",
            "There's a moderate chance of rain. You might want to be prepared.\n"
          ]
        }
      ]
    }
  ]
}
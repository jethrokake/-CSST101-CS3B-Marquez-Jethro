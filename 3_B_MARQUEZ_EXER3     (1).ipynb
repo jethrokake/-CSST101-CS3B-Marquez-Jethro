{
  "nbformat": 4,
  "nbformat_minor": 0,
  "metadata": {
    "colab": {
      "provenance": []
    },
    "kernelspec": {
      "name": "python3",
      "display_name": "Python 3"
    },
    "language_info": {
      "name": "python"
    }
  },
  "cells": [
    {
      "cell_type": "markdown",
      "source": [
        "# **Part 1:Defining the problem and System Design**\n"
      ],
      "metadata": {
        "id": "oqoO4iR-HUZq"
      }
    },
    {
      "cell_type": "markdown",
      "source": [
        "**Chosen Dieses:** Heart Dieses\n",
        "\n",
        "**Contributing Factors:** High blood pressure, High cholesterol, Smoking\n"
      ],
      "metadata": {
        "id": "X6_-eiI3Jge_"
      }
    },
    {
      "cell_type": "markdown",
      "source": [
        "# **Part 2: Basic Probability Calculation**"
      ],
      "metadata": {
        "id": "aVU_ozqGKSYA"
      }
    },
    {
      "cell_type": "code",
      "source": [
        "prior_probability = 0.02\n",
        "test_sensitivity = 0.95\n",
        "false_positive = 0.05\n",
        "positive_probability =0.06\n",
        "\n",
        "answer = test_sensitivity * prior_probability / positive_probability\n",
        "print(answer)"
      ],
      "metadata": {
        "colab": {
          "base_uri": "https://localhost:8080/"
        },
        "id": "eT3WHVhCKhM2",
        "outputId": "62b7b83d-2d17-465b-e560-398624d23f33"
      },
      "execution_count": 4,
      "outputs": [
        {
          "output_type": "stream",
          "name": "stdout",
          "text": [
            "0.31666666666666665\n"
          ]
        }
      ]
    },
    {
      "cell_type": "markdown",
      "source": [
        "# **Part 3: Decision making Simulation**"
      ],
      "metadata": {
        "id": "ijuL9M09NCgU"
      }
    },
    {
      "cell_type": "code",
      "source": [
        "treatment_suc = 0.7\n",
        "benifit = 100\n",
        "failure = 0.3\n",
        "reduction = -50\n",
        "\n",
        "answer = treatment_suc * benifit + failure * reduction\n",
        "print(answer)\n"
      ],
      "metadata": {
        "colab": {
          "base_uri": "https://localhost:8080/"
        },
        "id": "OEiDotBcNLgp",
        "outputId": "41125db7-b59e-444a-8264-33ac3f6ba35b"
      },
      "execution_count": 5,
      "outputs": [
        {
          "output_type": "stream",
          "name": "stdout",
          "text": [
            "55.0\n"
          ]
        }
      ]
    },
    {
      "cell_type": "markdown",
      "source": [
        "**Part 4: Visualize a Binomial distribution**"
      ],
      "metadata": {
        "id": "Dv4-BSckOJVy"
      }
    },
    {
      "cell_type": "code",
      "source": [
        "# prompt: draw a probability distribution showing the chances of getting 0 to 5 heads\n",
        "\n",
        "import matplotlib.pyplot as plt\n",
        "from scipy.stats import binom\n",
        "\n",
        "# Parameters for the binomial distribution\n",
        "n = 5  # Number of trials (coin flips)\n",
        "p = 0.5  # Probability of success (getting a head)\n",
        "\n",
        "# Generate the probability mass function (PMF) for 0 to 5 heads\n",
        "x = range(0, 6)\n",
        "pmf = [binom.pmf(i, n, p) for i in x]\n",
        "\n",
        "# Create the bar plot\n",
        "plt.bar(x, pmf)\n",
        "plt.xlabel(\"Number of Heads\")\n",
        "plt.ylabel(\"Probability\")\n",
        "plt.title(\"Binomial Distribution (n=5, p=0.5)\")\n",
        "plt.show()\n"
      ],
      "metadata": {
        "colab": {
          "base_uri": "https://localhost:8080/",
          "height": 472
        },
        "id": "hHenLEuXOJfF",
        "outputId": "99b98baa-af78-4b77-9593-76f142bf439d"
      },
      "execution_count": 6,
      "outputs": [
        {
          "output_type": "display_data",
          "data": {
            "text/plain": [
              "<Figure size 640x480 with 1 Axes>"
            ],
            "image/png": "[encoded data removed]"
          },
          "metadata": {}
        }
      ]
    },
    {
      "cell_type": "markdown",
      "source": [
        "# **Part 5: Reflection**"
      ],
      "metadata": {
        "id": "tKJxAf0WQHq-"
      }
    },
    {
      "cell_type": "markdown",
      "source": [
        "Understanding probability theory is crucial in medical diagnosis as it allows healthcare professionals to quantify uncertainty regarding a patient's condition. By employing frameworks like Bayes' theorem, clinicians can update their beliefs about the likelihood of diseases based on test results and clinical signs, facilitating informed decision-making regarding further testing or treatment options. Additionally, probability thresholds help define when to act or refrain from action, balancing the risks and benefits of potential interventions, thus optimizing patient management.\n"
      ],
      "metadata": {
        "id": "Y1kPDVZwQ5l0"
      }
    }
  ]
}
